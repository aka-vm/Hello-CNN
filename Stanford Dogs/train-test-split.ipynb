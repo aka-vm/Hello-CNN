{
 "cells": [
  {
   "cell_type": "markdown",
   "metadata": {},
   "source": [
    "# Train-Test-Split\n",
    "\n",
    "This notebooks splits the dataset into train and test dataset.\n",
    "\n",
    "### Input Data Format: \n",
    "* DATA_PATH/<CLASS_Name>/<Image>.jpg\n",
    "\n",
    "### Output Data Format: \n",
    "* DATA_PATH/train/<CLASS_Name>/<Image>.jpg\n",
    "* DATA_PATH/test/<CLASS_Name>/<Image>.jpg"
   ]
  },
  {
   "cell_type": "code",
   "execution_count": 92,
   "metadata": {},
   "outputs": [],
   "source": [
    "import numpy as np\n",
    "import pandas as pd\n",
    "\n",
    "import os\n",
    "import shutil\n",
    "import pathlib\n",
    "import sys"
   ]
  },
  {
   "cell_type": "markdown",
   "metadata": {},
   "source": [
    "## Variables"
   ]
  },
  {
   "cell_type": "code",
   "execution_count": 93,
   "metadata": {},
   "outputs": [],
   "source": [
    "# go to parent directory\n",
    "os.chdir(\"..\")\n",
    "import paths\n",
    "\n",
    "REPO_DIR = paths.get_repo_path()\n",
    "ROOT_DIR = REPO_DIR / \"Stanford Dogs\"\n",
    "DATA_BASE_PATH = paths.get_data_path() / \"stanford-dogs-dataset\"\n",
    "DATA_PATH_IN = DATA_BASE_PATH / \"images/Images\"\n",
    "DATA_PATH_OUT = DATA_BASE_PATH / \"splited-data\"\n",
    "\n",
    "RANDOM_SEED = 42\n",
    "\n",
    "# set path to repo_dir\n",
    "os.chdir(REPO_DIR)"
   ]
  },
  {
   "cell_type": "code",
   "execution_count": 94,
   "metadata": {},
   "outputs": [],
   "source": [
    "train_ratio, val_ratio, test_ratio = 0.6, 0.15, 0.25"
   ]
  },
  {
   "cell_type": "markdown",
   "metadata": {},
   "source": [
    "## Splitting"
   ]
  },
  {
   "cell_type": "markdown",
   "metadata": {},
   "source": [
    "### Naming Conventions "
   ]
  },
  {
   "cell_type": "code",
   "execution_count": 107,
   "metadata": {},
   "outputs": [
    {
     "data": {
      "text/plain": [
       "120"
      ]
     },
     "execution_count": 107,
     "metadata": {},
     "output_type": "execute_result"
    }
   ],
   "source": [
    "classes_dir = os.listdir(DATA_PATH_IN)\n",
    "classes_dir[:10]\n",
    "try:\n",
    "    classes_dir.remove(\".DS_Store\")\n",
    "except ValueError:\n",
    "    pass\n",
    "len(classes_dir)"
   ]
  },
  {
   "cell_type": "code",
   "execution_count": 109,
   "metadata": {},
   "outputs": [
    {
     "data": {
      "text/plain": [
       "(120,\n",
       " ['Silky Terrier',\n",
       "  'Scottish Deerhound',\n",
       "  'Chesapeake Bay Retriever',\n",
       "  'Ibizan Hound',\n",
       "  'Wire Haired Fox Terrier',\n",
       "  'Saluki',\n",
       "  'Cocker Spaniel',\n",
       "  'Schipperke',\n",
       "  'Borzoi',\n",
       "  'Pembroke'])"
      ]
     },
     "execution_count": 109,
     "metadata": {},
     "output_type": "execute_result"
    }
   ],
   "source": [
    "new_classes_names = []\n",
    "for image_class in classes_dir:\n",
    "    cls = image_class.replace(\"_\", \"-\").split(\"-\")\n",
    "    cls = \" \".join(cls[1:])\n",
    "    new_classes_names.append(cls.title())\n",
    "    \n",
    "len(new_classes_names), new_classes_names[:10]"
   ]
  },
  {
   "cell_type": "markdown",
   "metadata": {},
   "source": [
    "### Copy images to new folders"
   ]
  },
  {
   "cell_type": "code",
   "execution_count": 110,
   "metadata": {},
   "outputs": [],
   "source": [
    "np.random.seed(RANDOM_SEED)"
   ]
  },
  {
   "cell_type": "code",
   "execution_count": 111,
   "metadata": {},
   "outputs": [],
   "source": [
    "# create folders for train, test\n",
    "train_set_location = DATA_PATH_OUT / \"train\"\n",
    "os.makedirs(train_set_location, exist_ok=True)\n",
    "test_set_location = DATA_PATH_OUT / \"test\"\n",
    "os.makedirs(test_set_location, exist_ok=True)\n",
    "\n",
    "for i, image_class in enumerate(classes_dir):\n",
    "    image_class_path = DATA_PATH_IN / image_class\n",
    "    images = os.listdir(image_class_path)\n",
    "    \n",
    "    try :\n",
    "        images.remove(\".DS_Store\")\n",
    "    except:\n",
    "        pass\n",
    "    \n",
    "    train_set_size = int(len(images) * train_ratio)\n",
    "    train_set_images = np.random.choice(images, train_set_size, replace=False)\n",
    "    test_set_images = [image for image in images if image not in train_set_images]\n",
    "    \n",
    "    train_set_class_path = train_set_location / new_classes_names[i]\n",
    "    test_set_class_path = test_set_location / new_classes_names[i]\n",
    "    \n",
    "    # if folders exist, delete them\n",
    "    if os.path.exists(train_set_class_path):\n",
    "        shutil.rmtree(train_set_class_path)\n",
    "    if os.path.exists(test_set_class_path):\n",
    "        shutil.rmtree(test_set_class_path)\n",
    "    \n",
    "    # create folders for class in train and test\n",
    "    os.makedirs(train_set_class_path, exist_ok=True)\n",
    "    os.makedirs(test_set_class_path, exist_ok=True)\n",
    "    \n",
    "    # copy images to train and test\n",
    "    for image in train_set_images:\n",
    "        image_path = image_class_path / image\n",
    "        shutil.copy(image_path, train_set_class_path)\n",
    "    for image in test_set_images:\n",
    "        image_path = image_class_path / image\n",
    "        shutil.copy(image_path, test_set_class_path)"
   ]
  },
  {
   "cell_type": "code",
   "execution_count": null,
   "metadata": {},
   "outputs": [],
   "source": []
  }
 ],
 "metadata": {
  "kernelspec": {
   "display_name": "Python 3.9.12 64-bit ('env_tf')",
   "language": "python",
   "name": "python3"
  },
  "language_info": {
   "codemirror_mode": {
    "name": "ipython",
    "version": 3
   },
   "file_extension": ".py",
   "mimetype": "text/x-python",
   "name": "python",
   "nbconvert_exporter": "python",
   "pygments_lexer": "ipython3",
   "version": "3.9.12"
  },
  "orig_nbformat": 4,
  "vscode": {
   "interpreter": {
    "hash": "d5a1ae6899980971a482c9ba4350aa5d29248927543f8d54686f28fa951765f0"
   }
  }
 },
 "nbformat": 4,
 "nbformat_minor": 2
}
