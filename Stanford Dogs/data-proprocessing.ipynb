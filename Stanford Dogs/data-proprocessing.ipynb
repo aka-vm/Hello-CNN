{
 "cells": [
  {
   "cell_type": "code",
   "execution_count": 7,
   "metadata": {},
   "outputs": [],
   "source": [
    "import tensorflow as tf\n",
    "import numpy as np\n",
    "import pandas as pd\n",
    "import matplotlib.pyplot as plt\n",
    "import seaborn as sns\n",
    "\n",
    "import os\n",
    "import pathlib\n",
    "import sys\n",
    "import xmltodict, json"
   ]
  },
  {
   "cell_type": "markdown",
   "metadata": {},
   "source": [
    "## Contents"
   ]
  },
  {
   "cell_type": "markdown",
   "metadata": {},
   "source": [
    "### Directories"
   ]
  },
  {
   "cell_type": "code",
   "execution_count": 73,
   "metadata": {},
   "outputs": [],
   "source": [
    "# go to parent directory\n",
    "os.chdir(\"../\")\n",
    "import paths\n",
    "\n",
    "REPO_DIR = paths.get_repo_path()\n",
    "ROOT_DIR = REPO_DIR / \"Stanford Dogs\"\n",
    "DATA_BASE_PATH = paths.get_data_path() / \"stanford-dogs-dataset\"\n",
    "IMAGES_PATH = DATA_BASE_PATH / \"images/images\"\n",
    "ANNOTATIONS_PATH = DATA_BASE_PATH / \"annotations/Annotation\"\n",
    "\n",
    "\n",
    "# set path to repo_dir\n",
    "os.chdir(REPO_DIR)"
   ]
  },
  {
   "cell_type": "markdown",
   "metadata": {},
   "source": [
    "## Dir structure to CSV file"
   ]
  },
  {
   "cell_type": "code",
   "execution_count": 74,
   "metadata": {},
   "outputs": [
    {
     "data": {
      "text/html": [
       "<div>\n",
       "<style scoped>\n",
       "    .dataframe tbody tr th:only-of-type {\n",
       "        vertical-align: middle;\n",
       "    }\n",
       "\n",
       "    .dataframe tbody tr th {\n",
       "        vertical-align: top;\n",
       "    }\n",
       "\n",
       "    .dataframe thead th {\n",
       "        text-align: right;\n",
       "    }\n",
       "</style>\n",
       "<table border=\"1\" class=\"dataframe\">\n",
       "  <thead>\n",
       "    <tr style=\"text-align: right;\">\n",
       "      <th></th>\n",
       "      <th>breed</th>\n",
       "      <th>image_path</th>\n",
       "      <th>annotation_path</th>\n",
       "    </tr>\n",
       "  </thead>\n",
       "  <tbody>\n",
       "    <tr>\n",
       "      <th>0</th>\n",
       "      <td>Chihuahua</td>\n",
       "      <td>/Users/vineetmahajan/Code/AI/datasets/stanford...</td>\n",
       "      <td>/Users/vineetmahajan/Code/AI/datasets/stanford...</td>\n",
       "    </tr>\n",
       "    <tr>\n",
       "      <th>1</th>\n",
       "      <td>Chihuahua</td>\n",
       "      <td>/Users/vineetmahajan/Code/AI/datasets/stanford...</td>\n",
       "      <td>/Users/vineetmahajan/Code/AI/datasets/stanford...</td>\n",
       "    </tr>\n",
       "    <tr>\n",
       "      <th>2</th>\n",
       "      <td>Chihuahua</td>\n",
       "      <td>/Users/vineetmahajan/Code/AI/datasets/stanford...</td>\n",
       "      <td>/Users/vineetmahajan/Code/AI/datasets/stanford...</td>\n",
       "    </tr>\n",
       "    <tr>\n",
       "      <th>3</th>\n",
       "      <td>Chihuahua</td>\n",
       "      <td>/Users/vineetmahajan/Code/AI/datasets/stanford...</td>\n",
       "      <td>/Users/vineetmahajan/Code/AI/datasets/stanford...</td>\n",
       "    </tr>\n",
       "    <tr>\n",
       "      <th>4</th>\n",
       "      <td>Chihuahua</td>\n",
       "      <td>/Users/vineetmahajan/Code/AI/datasets/stanford...</td>\n",
       "      <td>/Users/vineetmahajan/Code/AI/datasets/stanford...</td>\n",
       "    </tr>\n",
       "    <tr>\n",
       "      <th>...</th>\n",
       "      <td>...</td>\n",
       "      <td>...</td>\n",
       "      <td>...</td>\n",
       "    </tr>\n",
       "    <tr>\n",
       "      <th>20575</th>\n",
       "      <td>African Hunting Dog</td>\n",
       "      <td>/Users/vineetmahajan/Code/AI/datasets/stanford...</td>\n",
       "      <td>/Users/vineetmahajan/Code/AI/datasets/stanford...</td>\n",
       "    </tr>\n",
       "    <tr>\n",
       "      <th>20576</th>\n",
       "      <td>African Hunting Dog</td>\n",
       "      <td>/Users/vineetmahajan/Code/AI/datasets/stanford...</td>\n",
       "      <td>/Users/vineetmahajan/Code/AI/datasets/stanford...</td>\n",
       "    </tr>\n",
       "    <tr>\n",
       "      <th>20577</th>\n",
       "      <td>African Hunting Dog</td>\n",
       "      <td>/Users/vineetmahajan/Code/AI/datasets/stanford...</td>\n",
       "      <td>/Users/vineetmahajan/Code/AI/datasets/stanford...</td>\n",
       "    </tr>\n",
       "    <tr>\n",
       "      <th>20578</th>\n",
       "      <td>African Hunting Dog</td>\n",
       "      <td>/Users/vineetmahajan/Code/AI/datasets/stanford...</td>\n",
       "      <td>/Users/vineetmahajan/Code/AI/datasets/stanford...</td>\n",
       "    </tr>\n",
       "    <tr>\n",
       "      <th>20579</th>\n",
       "      <td>African Hunting Dog</td>\n",
       "      <td>/Users/vineetmahajan/Code/AI/datasets/stanford...</td>\n",
       "      <td>/Users/vineetmahajan/Code/AI/datasets/stanford...</td>\n",
       "    </tr>\n",
       "  </tbody>\n",
       "</table>\n",
       "<p>20580 rows × 3 columns</p>\n",
       "</div>"
      ],
      "text/plain": [
       "                     breed                                         image_path  \\\n",
       "0                Chihuahua  /Users/vineetmahajan/Code/AI/datasets/stanford...   \n",
       "1                Chihuahua  /Users/vineetmahajan/Code/AI/datasets/stanford...   \n",
       "2                Chihuahua  /Users/vineetmahajan/Code/AI/datasets/stanford...   \n",
       "3                Chihuahua  /Users/vineetmahajan/Code/AI/datasets/stanford...   \n",
       "4                Chihuahua  /Users/vineetmahajan/Code/AI/datasets/stanford...   \n",
       "...                    ...                                                ...   \n",
       "20575  African Hunting Dog  /Users/vineetmahajan/Code/AI/datasets/stanford...   \n",
       "20576  African Hunting Dog  /Users/vineetmahajan/Code/AI/datasets/stanford...   \n",
       "20577  African Hunting Dog  /Users/vineetmahajan/Code/AI/datasets/stanford...   \n",
       "20578  African Hunting Dog  /Users/vineetmahajan/Code/AI/datasets/stanford...   \n",
       "20579  African Hunting Dog  /Users/vineetmahajan/Code/AI/datasets/stanford...   \n",
       "\n",
       "                                         annotation_path  \n",
       "0      /Users/vineetmahajan/Code/AI/datasets/stanford...  \n",
       "1      /Users/vineetmahajan/Code/AI/datasets/stanford...  \n",
       "2      /Users/vineetmahajan/Code/AI/datasets/stanford...  \n",
       "3      /Users/vineetmahajan/Code/AI/datasets/stanford...  \n",
       "4      /Users/vineetmahajan/Code/AI/datasets/stanford...  \n",
       "...                                                  ...  \n",
       "20575  /Users/vineetmahajan/Code/AI/datasets/stanford...  \n",
       "20576  /Users/vineetmahajan/Code/AI/datasets/stanford...  \n",
       "20577  /Users/vineetmahajan/Code/AI/datasets/stanford...  \n",
       "20578  /Users/vineetmahajan/Code/AI/datasets/stanford...  \n",
       "20579  /Users/vineetmahajan/Code/AI/datasets/stanford...  \n",
       "\n",
       "[20580 rows x 3 columns]"
      ]
     },
     "execution_count": 74,
     "metadata": {},
     "output_type": "execute_result"
    }
   ],
   "source": [
    "breed_dir_name = [\n",
    "        breed \n",
    "        for breed in sorted(os.listdir(IMAGES_PATH))\n",
    "        if not breed.startswith(\".\") and os.path.isdir(IMAGES_PATH / breed)\n",
    "]\n",
    "\n",
    "def xml_to_json(xml_path):\n",
    "    json_path = xml_path.parent / (xml_path.stem + \".json\")\n",
    "    \n",
    "    with open(xml_path) as xml_file:\n",
    "        json_data = xmltodict.parse(xml_file.read())\n",
    "        \n",
    "    with open(json_path, \"w\") as json_file:\n",
    "        json.dump(json_data, json_file, indent=2)\n",
    "    return json_path\n",
    "\n",
    "dogs_df = pd.DataFrame(columns=[\"breed\", \"image_path\", \"annotation_path\"])\n",
    "\n",
    "for breed_dir in breed_dir_name:\n",
    "    breed_name = \" \".join(breed_dir.replace(\"_\", \"-\").split(\"-\")[1:]).title()\n",
    "    \n",
    "    breed_images_dir_path = IMAGES_PATH / breed_dir\n",
    "    breed_annotations_dir_path = ANNOTATIONS_PATH / breed_dir\n",
    "    \n",
    "    breed_images_name = [\n",
    "            image \n",
    "            for image in sorted(os.listdir(breed_images_dir_path)) \n",
    "            if not image.startswith(\".\") and image.endswith((\".jpg\", \".jpeg\", \".png\"))\n",
    "    ]\n",
    "    breed_annotations_name = [\n",
    "            image.split(\".\")[0]\n",
    "            for image in breed_images_name\n",
    "    ]\n",
    "    \n",
    "    breed_images_path = [\n",
    "            breed_images_dir_path / image \n",
    "            for image in breed_images_name\n",
    "            if os.path.isfile(breed_images_dir_path / image)\n",
    "    ]\n",
    "    breed_annotations_path = [\n",
    "            breed_annotations_dir_path / annotation \n",
    "            for annotation in breed_annotations_name\n",
    "            if os.path.isfile(breed_annotations_dir_path / annotation)\n",
    "    ]\n",
    "\n",
    "    dogs_df = pd.concat([dogs_df, pd.DataFrame({\"breed\": breed_name, \"image_path\": breed_images_path, \"annotation_path\": breed_annotations_path})])\n",
    "    dogs_df.reset_index(drop=True, inplace=True)\n",
    "    \n",
    "    \n",
    "dogs_df"
   ]
  },
  {
   "cell_type": "markdown",
   "metadata": {},
   "source": [
    "## XML annotation to JSON annotation"
   ]
  },
  {
   "cell_type": "code",
   "execution_count": 75,
   "metadata": {},
   "outputs": [
    {
     "name": "stdout",
     "output_type": "stream",
     "text": [
      "(20580, 4)\n"
     ]
    },
    {
     "data": {
      "text/plain": [
       "Index(['breed', 'image_path', 'annotation_path', 'annotation_json_path'], dtype='object')"
      ]
     },
     "execution_count": 75,
     "metadata": {},
     "output_type": "execute_result"
    }
   ],
   "source": [
    "annotation_json_path = [xml_to_json(annotation_path) for annotation_path in dogs_df[\"annotation_path\"]]\n",
    "\n",
    "dogs_df[\"annotation_json_path\"] = annotation_json_path\n",
    "dogs_df.to_csv(DATA_BASE_PATH / \"dogs_df.csv\", index=False)\n",
    "\n",
    "print(dogs_df.shape)\n",
    "dogs_df.columns"
   ]
  },
  {
   "cell_type": "code",
   "execution_count": null,
   "metadata": {},
   "outputs": [],
   "source": []
  }
 ],
 "metadata": {
  "kernelspec": {
   "display_name": "Python 3.9.12 64-bit ('env_tf')",
   "language": "python",
   "name": "python3"
  },
  "language_info": {
   "codemirror_mode": {
    "name": "ipython",
    "version": 3
   },
   "file_extension": ".py",
   "mimetype": "text/x-python",
   "name": "python",
   "nbconvert_exporter": "python",
   "pygments_lexer": "ipython3",
   "version": "3.9.12"
  },
  "orig_nbformat": 4,
  "vscode": {
   "interpreter": {
    "hash": "d5a1ae6899980971a482c9ba4350aa5d29248927543f8d54686f28fa951765f0"
   }
  }
 },
 "nbformat": 4,
 "nbformat_minor": 2
}
